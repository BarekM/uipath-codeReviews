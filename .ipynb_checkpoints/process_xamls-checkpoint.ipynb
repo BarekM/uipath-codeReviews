{
 "cells": [
  {
   "cell_type": "code",
   "execution_count": 1,
   "metadata": {},
   "outputs": [],
   "source": [
    "import xml.etree.ElementTree as ET"
   ]
  },
  {
   "cell_type": "code",
   "execution_count": 10,
   "metadata": {},
   "outputs": [],
   "source": [
    "class Activity():\n",
    "    \n",
    "    name = ''\n",
    "    selector = ''\n",
    "    activity_type = ''\n",
    "    \n",
    "    def __init__(self, xaml_activity):\n",
    "        self.xaml_activity = xaml_activity\n",
    "        self.name = self.__get_name()\n",
    "        self.activity_type = self.__get_type()\n",
    "        self.selector = self.__get_selector()\n",
    "    \n",
    "    def __get_name(self):\n",
    "        return self.xaml_activity.attrib['DisplayName']\n",
    "    \n",
    "    def __get_type(self):\n",
    "        self.activity_type = self.xaml_activity.find('./Target')\n",
    "    \n",
    "    def __get_selector(self):\n",
    "        try:\n",
    "            self.selector = self.xaml_activity[0][0].attrib['Selector']\n",
    "        except KeyError as e:\n",
    "            self.selector = ''\n",
    "            \n",
    "            \n",
    "class File():\n",
    "    \n",
    "    def __init__(self):\n",
    "        self.activities = []\n",
    "        self.name = ''\n",
    "        self.directory = ''"
   ]
  },
  {
   "cell_type": "code",
   "execution_count": 3,
   "metadata": {},
   "outputs": [],
   "source": [
    "path_xaml = r'C:\\Users\\markb\\Documents\\UiPath\\02_Zoom_DispatchPlayers_backup\\Sequence.xaml'\n",
    "\n",
    "tree = ET.parse(path_xaml)\n",
    "root = tree.getroot()"
   ]
  },
  {
   "cell_type": "code",
   "execution_count": 11,
   "metadata": {},
   "outputs": [
    {
     "name": "stdout",
     "output_type": "stream",
     "text": [
      "None\n",
      "None\n",
      "None\n",
      "None\n",
      "None\n",
      "None\n"
     ]
    }
   ],
   "source": [
    "def find_all_activities(root, activities):\n",
    "    for child in root:\n",
    "        if 'http://schemas.uipath.com/workflow/activities' in child.tag:\n",
    "            a = Activity(child)\n",
    "            activities.append(a)\n",
    "        else:\n",
    "            find_all_activities(child, activities)\n",
    "    return activities\n",
    "\n",
    "activities = []\n",
    "activities = find_all_activities(root, activities)\n",
    "for a in activities:\n",
    "    print(a.activity_type)"
   ]
  },
  {
   "cell_type": "code",
   "execution_count": 23,
   "metadata": {},
   "outputs": [
    {
     "name": "stdout",
     "output_type": "stream",
     "text": [
      "{'ClickBeforeTyping': '{x:Null}', 'DelayBefore': '{x:Null}', 'DelayBetweenKeys': '{x:Null}', 'DelayMS': '{x:Null}', 'EmptyField': '{x:Null}', 'Key': '{x:Null}', 'SendWindowMessages': '{x:Null}', 'SpecialKey': '{x:Null}', 'Activate': 'True', 'DisplayName': \"Send Hotkey 'editable text'\", '{http://schemas.microsoft.com/netfx/2009/xaml/activities/presentation}VirtualizedContainerService.HintSize': '333.6,156', '{http://schemas.microsoft.com/netfx/2010/xaml/activities/presentation}WorkflowViewState.IdRef': 'SendHotkey_1', 'KeyModifiers': 'None'}\n"
     ]
    }
   ],
   "source": [
    "x = activities[0].xaml_activity\n",
    "for y in x:\n",
    "    print(x.attrib)"
   ]
  },
  {
   "cell_type": "code",
   "execution_count": null,
   "metadata": {},
   "outputs": [],
   "source": [
    "def get_selector(activity):\n",
    "    return activity[0][0].attrib['Selexxxxctor']\n",
    "\n",
    "for act in activities:\n",
    "    x = get_selector(act)\n",
    "#     x = act.tag#.attrib#['Selector']\n",
    "#     x = get_activity_type(act)\n",
    "    print(x)"
   ]
  },
  {
   "cell_type": "code",
   "execution_count": null,
   "metadata": {},
   "outputs": [],
   "source": [
    "import re\n",
    "def get_activity_name(activity):\n",
    "    p = w = r'\\{.*\\}([\\w\\d]+)'\n",
    "    reg = re.compile(p)\n",
    "    r = reg.search(activity.tag)\n",
    "    a_type = r.group(1)\n",
    "    return a_type"
   ]
  },
  {
   "cell_type": "code",
   "execution_count": null,
   "metadata": {},
   "outputs": [],
   "source": []
  }
 ],
 "metadata": {
  "kernelspec": {
   "display_name": "Python 3",
   "language": "python",
   "name": "python3"
  },
  "language_info": {
   "codemirror_mode": {
    "name": "ipython",
    "version": 3
   },
   "file_extension": ".py",
   "mimetype": "text/x-python",
   "name": "python",
   "nbconvert_exporter": "python",
   "pygments_lexer": "ipython3",
   "version": "3.7.3"
  }
 },
 "nbformat": 4,
 "nbformat_minor": 2
}

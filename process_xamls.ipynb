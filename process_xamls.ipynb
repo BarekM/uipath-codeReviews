{
 "cells": [
  {
   "cell_type": "code",
   "execution_count": 1,
   "metadata": {},
   "outputs": [],
   "source": [
    "import xml.etree.ElementTree as ET"
   ]
  },
  {
   "cell_type": "code",
   "execution_count": 18,
   "metadata": {},
   "outputs": [],
   "source": [
    "class Activity():\n",
    "    \n",
    "    name = ''\n",
    "    selector = ''\n",
    "    activity_type = ''\n",
    "    xaml_activity = ''\n",
    "    \n",
    "    def __init__(self, xaml_activity):\n",
    "        self.xaml_activity = xaml_activity\n",
    "        self.name = self.__get_name()\n",
    "        self.activity_type = self.__get_type()\n",
    "        self.selector = self.__get_selector(xaml_activity)\n",
    "    \n",
    "    def __get_name(self):\n",
    "        return self.xaml_activity.attrib['DisplayName']\n",
    "    \n",
    "    def __get_type(self):\n",
    "        self.activity_type = self.xaml_activity.find('./Target')\n",
    "    \n",
    "    def __get_selector(self, root):\n",
    "        for c in root:\n",
    "            try:\n",
    "                self.selector = c.attrib['Selector']\n",
    "                return self.selector\n",
    "            except KeyError as e:\n",
    "                self.selector = ''\n",
    "        print(self.selector)\n",
    "        if self.selector != '':\n",
    "            self.__get_selector(c)\n",
    "        \n",
    "#         try:\n",
    "#             print('===============')\n",
    "#             for c in self.xaml_activity[0]:\n",
    "#                 print(c.tag, c.attrib)\n",
    "#             self.selector = self.xaml_activity[0].attrib['Selector']\n",
    "#         except KeyError as e:\n",
    "#             self.selector = ''\n",
    "            \n",
    "            \n",
    "class Workflow():\n",
    "    \n",
    "    activities = []\n",
    "    name = ''\n",
    "    path = ''\n",
    "    \n",
    "    def __find_all_activities(self, root):\n",
    "        for child in root:\n",
    "            if 'http://schemas.uipath.com/workflow/activities' in child.tag:\n",
    "                a = Activity(child)\n",
    "                self.activities.append(a)\n",
    "            else:\n",
    "                self.__find_all_activities(child)\n",
    "\n",
    "    \n",
    "    def __init__(self, path):\n",
    "        self.activities = []\n",
    "        self.path = path\n",
    "        self.name = path.split('\\\\')[-1]\n",
    "        \n",
    "        tree = ET.parse(self.path)\n",
    "        root = tree.getroot()\n",
    "        self.__find_all_activities(root)"
   ]
  },
  {
   "cell_type": "code",
   "execution_count": 22,
   "metadata": {},
   "outputs": [
    {
     "name": "stdout",
     "output_type": "stream",
     "text": [
      "\n",
      "\n",
      "\n",
      "Type Into 'DirectUIHWND' None\n",
      "Click 'editable text  Name' None\n",
      "Click 'PRE' None\n"
     ]
    }
   ],
   "source": [
    "path_xaml = r'C:\\Users\\markb\\Documents\\UiPath\\02_Zoom_DispatchPlayers_backup\\Sequence.xaml'\n",
    "\n",
    "tree = ET.parse(path_xaml)\n",
    "root = tree.getroot()\n",
    "\n",
    "w = Workflow(path_xaml)\n",
    "for ww in w.activities:\n",
    "    print(ww.name, ww.selector)"
   ]
  },
  {
   "cell_type": "code",
   "execution_count": 24,
   "metadata": {},
   "outputs": [
    {
     "ename": "KeyError",
     "evalue": "'Selector'",
     "output_type": "error",
     "traceback": [
      "\u001b[1;31m---------------------------------------------------------------------------\u001b[0m",
      "\u001b[1;31mKeyError\u001b[0m                                  Traceback (most recent call last)",
      "\u001b[1;32m<ipython-input-24-e7c0e1206ae0>\u001b[0m in \u001b[0;36m<module>\u001b[1;34m\u001b[0m\n\u001b[0;32m      2\u001b[0m \u001b[1;31m# #     print(x)\u001b[0m\u001b[1;33m\u001b[0m\u001b[1;33m\u001b[0m\u001b[1;33m\u001b[0m\u001b[0m\n\u001b[0;32m      3\u001b[0m \u001b[1;31m#     print(x.attrib[\"Selector\"])\u001b[0m\u001b[1;33m\u001b[0m\u001b[1;33m\u001b[0m\u001b[1;33m\u001b[0m\u001b[0m\n\u001b[1;32m----> 4\u001b[1;33m \u001b[0mw\u001b[0m\u001b[1;33m.\u001b[0m\u001b[0mactivities\u001b[0m\u001b[1;33m[\u001b[0m\u001b[1;36m1\u001b[0m\u001b[1;33m]\u001b[0m\u001b[1;33m.\u001b[0m\u001b[0mxaml_activity\u001b[0m\u001b[1;33m[\u001b[0m\u001b[1;36m0\u001b[0m\u001b[1;33m]\u001b[0m\u001b[1;33m[\u001b[0m\u001b[1;36m0\u001b[0m\u001b[1;33m]\u001b[0m\u001b[1;33m.\u001b[0m\u001b[0mattrib\u001b[0m\u001b[1;33m[\u001b[0m\u001b[1;34m\"Selector\"\u001b[0m\u001b[1;33m]\u001b[0m\u001b[1;33m\u001b[0m\u001b[1;33m\u001b[0m\u001b[0m\n\u001b[0m",
      "\u001b[1;31mKeyError\u001b[0m: 'Selector'"
     ]
    }
   ],
   "source": [
    "# for x in w.activities[0].xaml_activity[0]:\n",
    "# #     print(x)\n",
    "#     print(x.attrib[\"Selector\"])\n",
    "w.activities[1].xaml_activity[0][0].attrib[\"Selector\"]"
   ]
  },
  {
   "cell_type": "code",
   "execution_count": 5,
   "metadata": {},
   "outputs": [
    {
     "name": "stdout",
     "output_type": "stream",
     "text": [
      "{http://schemas.uipath.com/workflow/activities}TypeInto.Target {}\n",
      "{http://schemas.uipath.com/workflow/activities}Target {'ClippingRegion': '{x:Null}', 'Element': '{x:Null}', 'Id': '0adbc318-de91-47f8-8c1c-30680a2ce2fc', 'InformativeScreenshot': '8d5bcfc718925bbeaa2ed56d5b8c9fca', 'Selector': \"<wnd app='explorer.exe' cls='CabinetWClass' title='02_Zoom_DispatchPlayers_backup' /><wnd cls='ShellTabWindowClass' title='02_Zoom_DispatchPlayers_backup' /><wnd aaname='Explorer Pane' cls='DirectUIHWND' /><wnd aaname='Shell Folder View' cls='SHELLDLL_DefView' title='ShellView' /><wnd aaname='Items View' cls='DirectUIHWND' />\"}\n",
      "hej <wnd app='explorer.exe' cls='CabinetWClass' title='02_Zoom_DispatchPlayers_backup' /><wnd cls='ShellTabWindowClass' title='02_Zoom_DispatchPlayers_backup' /><wnd aaname='Explorer Pane' cls='DirectUIHWND' /><wnd aaname='Shell Folder View' cls='SHELLDLL_DefView' title='ShellView' /><wnd aaname='Items View' cls='DirectUIHWND' />\n",
      "None\n"
     ]
    }
   ],
   "source": [
    "def find_all_activities(root, activities):\n",
    "    for child in root:\n",
    "        if 'http://schemas.uipath.com/workflow/activities' in child.tag:\n",
    "            a = Activity(child)\n",
    "            activities.append(a)\n",
    "        else:\n",
    "            find_all_activities(child, activities)\n",
    "    return activities\n",
    "\n",
    "activities = []\n",
    "activities = find_all_activities(root, activities)\n",
    "for a in activities:\n",
    "    print(a.activity_type)"
   ]
  },
  {
   "cell_type": "code",
   "execution_count": null,
   "metadata": {},
   "outputs": [],
   "source": [
    "import re\n",
    "def get_activity_name(activity):\n",
    "    p = w = r'\\{.*\\}([\\w\\d]+)'\n",
    "    reg = re.compile(p)\n",
    "    r = reg.search(activity.tag)\n",
    "    a_type = r.group(1)\n",
    "    return a_type"
   ]
  },
  {
   "cell_type": "code",
   "execution_count": null,
   "metadata": {},
   "outputs": [],
   "source": []
  }
 ],
 "metadata": {
  "kernelspec": {
   "display_name": "Python 3",
   "language": "python",
   "name": "python3"
  },
  "language_info": {
   "codemirror_mode": {
    "name": "ipython",
    "version": 3
   },
   "file_extension": ".py",
   "mimetype": "text/x-python",
   "name": "python",
   "nbconvert_exporter": "python",
   "pygments_lexer": "ipython3",
   "version": "3.7.3"
  }
 },
 "nbformat": 4,
 "nbformat_minor": 2
}
